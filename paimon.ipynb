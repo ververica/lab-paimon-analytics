{
 "cells": [
  {
   "cell_type": "code",
   "execution_count": 2,
   "metadata": {},
   "outputs": [
    {
     "data": {
      "text/plain": [
       "\u001b[32mimport \u001b[39m\u001b[36m$ivy.$\u001b[39m\n",
       "\u001b[32mimport \u001b[39m\u001b[36morg.apache.flinkx.api._\u001b[39m\n",
       "\u001b[32mimport \u001b[39m\u001b[36morg.apache.flinkx.api.serializers._\u001b[39m"
      ]
     },
     "execution_count": 2,
     "metadata": {},
     "output_type": "execute_result"
    }
   ],
   "source": [
    "import $ivy.`org.flinkextended::flink-scala-api:1.17.1_1.1.0`\n",
    "\n",
    "import org.apache.flinkx.api._\n",
    "import org.apache.flinkx.api.serializers._"
   ]
  },
  {
   "cell_type": "code",
   "execution_count": 1,
   "metadata": {},
   "outputs": [
    {
     "data": {
      "text/plain": [
       "\u001b[32mimport \u001b[39m\u001b[36m$ivy.$\u001b[39m\n",
       "\u001b[32mimport \u001b[39m\u001b[36m$ivy.$\u001b[39m\n",
       "\u001b[32mimport \u001b[39m\u001b[36m$ivy.$\u001b[39m\n",
       "\u001b[32mimport \u001b[39m\u001b[36m$ivy.$\u001b[39m\n",
       "\u001b[32mimport \u001b[39m\u001b[36m$ivy.$\u001b[39m\n",
       "\u001b[32mimport \u001b[39m\u001b[36m$ivy.$\u001b[39m\n",
       "\u001b[32mimport \u001b[39m\u001b[36m$ivy.$\u001b[39m\n",
       "\u001b[32mimport \u001b[39m\u001b[36m$ivy.$\u001b[39m\n",
       "\u001b[32mimport \u001b[39m\u001b[36m$ivy.$\u001b[39m\n",
       "\u001b[32mimport \u001b[39m\u001b[36m$ivy.$\u001b[39m\n",
       "\u001b[32mimport \u001b[39m\u001b[36m$ivy.$\u001b[39m\n",
       "\u001b[32mimport \u001b[39m\u001b[36morg.apache.flink.table.api._\u001b[39m\n",
       "\u001b[32mimport \u001b[39m\u001b[36morg.apache.flink.table.api.bridge.java.StreamTableEnvironment\u001b[39m\n",
       "\u001b[32mimport \u001b[39m\u001b[36morg.apache.flink.configuration.{Configuration, ConfigConstants}\u001b[39m\n",
       "\u001b[32mimport \u001b[39m\u001b[36morg.apache.flink.configuration.RestOptions.BIND_PORT\u001b[39m\n",
       "\u001b[32mimport \u001b[39m\u001b[36mscala.collection.JavaConverters._\u001b[39m\n",
       "\u001b[32mimport \u001b[39m\u001b[36mscala.jdk.OptionConverters._\u001b[39m"
      ]
     },
     "execution_count": 1,
     "metadata": {},
     "output_type": "execute_result"
    }
   ],
   "source": [
    "import $ivy.`org.apache.flink:flink-table-api-java:1.17.1`\n",
    "import $ivy.`org.apache.flink:flink-table-api-java-bridge:1.17.1`\n",
    "import $ivy.`org.apache.flink:flink-table-planner-loader:1.17.1`\n",
    "import $ivy.`org.apache.flink:flink-table-runtime:1.17.1`\n",
    "import $ivy.`org.apache.flink:flink-connector-base:1.17.1`\n",
    "import $ivy.`org.apache.flink:flink-connector-files:1.17.1`\n",
    "import $ivy.`org.apache.flink:flink-clients:1.17.1`\n",
    "import $ivy.`org.apache.flink:flink-runtime-web:1.17.1`\n",
    "\n",
    "import $ivy.`org.slf4j:slf4j-log4j12:1.7.15`\n",
    "\n",
    "// Paimon deps\n",
    "import $ivy.`org.apache.flink:flink-shaded-hadoop-2-uber:2.8.3-10.0`\n",
    "import $ivy.`org.apache.paimon:paimon-flink-1.17:0.5.0-incubating`\n",
    "\n",
    "import org.apache.flink.table.api._\n",
    "import org.apache.flink.table.api.bridge.java.StreamTableEnvironment\n",
    "import org.apache.flink.configuration.{Configuration, ConfigConstants}\n",
    "import org.apache.flink.configuration.RestOptions.BIND_PORT\n",
    "\n",
    "import scala.collection.JavaConverters._\n",
    "import scala.jdk.OptionConverters._"
   ]
  },
  {
   "cell_type": "code",
   "execution_count": 3,
   "metadata": {},
   "outputs": [
    {
     "name": "stderr",
     "output_type": "stream",
     "text": [
      "1 deprecation\n",
      "1 deprecation (since 2.13.0)\n",
      "2 deprecations in total; re-run with -deprecation for details\n",
      "SLF4J: No SLF4J providers were found.\n",
      "SLF4J: Defaulting to no-operation (NOP) logger implementation\n",
      "SLF4J: See https://www.slf4j.org/codes.html#noProviders for further details.\n",
      "SLF4J: Class path contains SLF4J bindings targeting slf4j-api versions 1.7.x or earlier.\n",
      "SLF4J: Ignoring binding found at [jar:file:/Users/alexeyn/Library/Caches/Coursier/v1/https/repo1.maven.org/maven2/org/slf4j/slf4j-log4j12/1.7.15/slf4j-log4j12-1.7.15.jar!/org/slf4j/impl/StaticLoggerBinder.class]\n",
      "SLF4J: See https://www.slf4j.org/codes.html#ignoredBindings for an explanation.\n"
     ]
    },
    {
     "data": {
      "text/plain": [
       "\u001b[36mconfig\u001b[39m: \u001b[32mConfiguration\u001b[39m = {execution.checkpointing.interval=10 s, rest.port=8081, rest.bind-port=8082, local.start-webserver=true}\n",
       "\u001b[36menv\u001b[39m: \u001b[32mStreamExecutionEnvironment\u001b[39m = org.apache.flinkx.api.StreamExecutionEnvironment@279b26d3\n",
       "\u001b[36mtEnv\u001b[39m: \u001b[32mStreamTableEnvironment\u001b[39m = org.apache.flink.table.api.bridge.java.internal.StreamTableEnvironmentImpl@4d08fb78\n",
       "\u001b[36msettings\u001b[39m: \u001b[32mEnvironmentSettings\u001b[39m = org.apache.flink.table.api.EnvironmentSettings@6386105e\n",
       "\u001b[36mtable\u001b[39m: \u001b[32mTableEnvironment\u001b[39m = org.apache.flink.table.api.internal.TableEnvironmentImpl@5c23140f"
      ]
     },
     "execution_count": 3,
     "metadata": {},
     "output_type": "execute_result"
    }
   ],
   "source": [
    "val config = Configuration.fromMap(\n",
    "  Map(\n",
    "    ConfigConstants.LOCAL_START_WEBSERVER -> \"true\",\n",
    "    BIND_PORT.key -> \"8082\",\n",
    "    \"execution.checkpointing.interval\" -> \"10 s\"\n",
    "  ).asJava\n",
    ")\n",
    "\n",
    "val env = StreamExecutionEnvironment.createLocalEnvironmentWithWebUI(config)\n",
    "val tEnv = StreamTableEnvironment.create(env.getJavaEnv)\n",
    "val settings = EnvironmentSettings.newInstance().inStreamingMode()\n",
    "  .withConfiguration(env.getJavaEnv.getConfiguration.asInstanceOf[Configuration])\n",
    "  .build()\n",
    "val table = TableEnvironment.create(settings)"
   ]
  },
  {
   "cell_type": "code",
   "execution_count": null,
   "metadata": {},
   "outputs": [],
   "source": [
    "def runFlinkSql(sql: String) = \n",
    "  sql.split(\";\").map(_.trim).filterNot(_.isEmpty).foreach { s => \n",
    "    println(s\"Executing: $s\")\n",
    "    table.executeSql(s).print\n",
    "  }    "
   ]
  },
  {
   "cell_type": "code",
   "execution_count": null,
   "metadata": {},
   "outputs": [],
   "source": [
    "runFlinkSql(\"\"\"\n",
    "  CREATE CATALOG my_catalog WITH (\n",
    "    'type'='paimon',\n",
    "    'warehouse'='file:/tmp/paimon'\n",
    "  );\n",
    "  USE CATALOG my_catalog\n",
    "\"\"\")"
   ]
  },
  {
   "cell_type": "code",
   "execution_count": null,
   "metadata": {},
   "outputs": [],
   "source": [
    "runFlinkSql(\"\"\"\n",
    "  CREATE TABLE word_count (\n",
    "    word STRING PRIMARY KEY NOT ENFORCED,\n",
    "    cnt BIGINT\n",
    "  ) WITH (\n",
    "    'write-only' = 'true' \n",
    "  );\n",
    "  CREATE TEMPORARY TABLE word_table (\n",
    "    word STRING\n",
    "  ) WITH (\n",
    "    'connector' = 'datagen',\n",
    "    'fields.word.length' = '1'\n",
    "  )\n",
    "\"\"\")"
   ]
  },
  {
   "cell_type": "code",
   "execution_count": null,
   "metadata": {},
   "outputs": [],
   "source": [
    "val result = table.executeSql(\"\"\"\n",
    "    INSERT INTO word_count\n",
    "    SELECT word, COUNT(*) FROM word_table GROUP BY word\n",
    "\"\"\")"
   ]
  },
  {
   "cell_type": "code",
   "execution_count": null,
   "metadata": {},
   "outputs": [],
   "source": [
    "result.getJobClient.ifPresent(status => print(status.getJobStatus.get))"
   ]
  },
  {
   "cell_type": "code",
   "execution_count": null,
   "metadata": {},
   "outputs": [],
   "source": [
    "result.getJobClient.ifPresent(_.cancel())"
   ]
  }
 ],
 "metadata": {
  "kernelspec": {
   "display_name": "Scala (2.13)",
   "language": "scala",
   "name": "scala213"
  },
  "language_info": {
   "codemirror_mode": "text/x-scala",
   "file_extension": ".sc",
   "mimetype": "text/x-scala",
   "name": "scala",
   "nbconvert_exporter": "script",
   "version": "2.13.11"
  }
 },
 "nbformat": 4,
 "nbformat_minor": 2
}
